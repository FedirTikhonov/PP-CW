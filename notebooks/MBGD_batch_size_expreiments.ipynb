{
 "cells": [
  {
   "cell_type": "markdown",
   "source": [
    "Імпортуємо усі необхідні бібліотеки:"
   ],
   "metadata": {
    "collapsed": false
   },
   "id": "d80b2a72b628dbc7"
  },
  {
   "cell_type": "code",
   "execution_count": 5,
   "id": "initial_id",
   "metadata": {
    "collapsed": true,
    "jupyter": {
     "outputs_hidden": true
    },
    "ExecuteTime": {
     "end_time": "2024-04-25T16:14:09.003889Z",
     "start_time": "2024-04-25T16:14:08.986435Z"
    }
   },
   "outputs": [],
   "source": [
    "from parallelized_functions.Matrix import Matrix\n",
    "from parallelized_functions.ParMiniBatchGradientDescent import ParMiniBatchGradientDescent\n",
    "import matplotlib.pyplot as plt\n",
    "import pandas as pd"
   ]
  },
  {
   "cell_type": "markdown",
   "source": [
    "Виконуємо експеримент з кількістю вибірок у пакеті"
   ],
   "metadata": {
    "collapsed": false
   },
   "id": "ecc9704f684f16dc"
  },
  {
   "cell_type": "code",
   "execution_count": 6,
   "id": "25c150a0fa8c15fc",
   "metadata": {
    "collapsed": false,
    "ExecuteTime": {
     "end_time": "2024-04-25T16:14:09.480382Z",
     "start_time": "2024-04-25T16:14:09.051513Z"
    }
   },
   "outputs": [],
   "source": [
    "if __name__ == '__main__':\n",
    "    n_samples = 50000\n",
    "    X = Matrix([[i * 2,\n",
    "                 i + 5,\n",
    "                 i - 10,\n",
    "                 7 - i,\n",
    "                 i * (-10)] for i in range(n_samples)])\n",
    "    X, X_min, X_max = X.normalise()\n",
    "    y = Matrix([[5 * X[i, 0] - 3 * X[i, 1] + 2 * X[i, 2] - X[i, 3] - 5 * X[i, 4] + 10] for i in range(n_samples)])\n",
    "    y, y_min, y_max = y.normalise()"
   ]
  },
  {
   "cell_type": "code",
   "execution_count": 7,
   "outputs": [
    {
     "name": "stdout",
     "output_type": "stream",
     "text": [
      "Mini-Batch Gradient Descent Progress:\n",
      "[============================================      ] 89%\r\n",
      "Early Stopping on iteration 88\n",
      "\n",
      "Executed in 76.246 seconds\n",
      "Mini-Batch Gradient Descent Progress:\n",
      "[============================================      ] 89%\r\n",
      "Early Stopping on iteration 88\n",
      "\n",
      "Executed in 60.478 seconds\n",
      "Mini-Batch Gradient Descent Progress:\n",
      "[============================================      ] 89%\r\n",
      "Early Stopping on iteration 88\n",
      "\n",
      "Executed in 25.069 seconds\n",
      "Mini-Batch Gradient Descent Progress:\n",
      "[============================================      ] 89%\r\n",
      "Early Stopping on iteration 88\n",
      "\n",
      "Executed in 18.054 seconds\n",
      "Mini-Batch Gradient Descent Progress:\n",
      "[============================================      ] 89%\r\n",
      "Early Stopping on iteration 88\n",
      "\n",
      "Executed in 12.401 seconds\n",
      "Mini-Batch Gradient Descent Progress:\n",
      "[=============================================     ] 90%\r\n",
      "Early Stopping on iteration 89\n",
      "\n",
      "Executed in 10.274 seconds\n",
      "Mini-Batch Gradient Descent Progress:\n",
      "[=============================================     ] 90%\r\n",
      "Early Stopping on iteration 89\n",
      "\n",
      "Executed in 10.707 seconds\n",
      "Mini-Batch Gradient Descent Progress:\n",
      "[=============================================     ] 90%\r\n",
      "Early Stopping on iteration 89\n",
      "\n",
      "Executed in 9.607 seconds\n",
      "Mini-Batch Gradient Descent Progress:\n",
      "[================================================  ] 96%\r\n",
      "Early Stopping on iteration 95\n",
      "\n",
      "Executed in 11.661 seconds\n",
      "Mini-Batch Gradient Descent Progress:\n",
      "[============================================      ] 89%\r\n",
      "Early Stopping on iteration 88\n",
      "\n",
      "Executed in 77.01 seconds\n",
      "Mini-Batch Gradient Descent Progress:\n",
      "[============================================      ] 89%\r\n",
      "Early Stopping on iteration 88\n",
      "\n",
      "Executed in 42.867 seconds\n",
      "Mini-Batch Gradient Descent Progress:\n",
      "[============================================      ] 89%\r\n",
      "Early Stopping on iteration 88\n",
      "\n",
      "Executed in 24.152 seconds\n",
      "Mini-Batch Gradient Descent Progress:\n",
      "[============================================      ] 89%\r\n",
      "Early Stopping on iteration 88\n",
      "\n",
      "Executed in 16.444 seconds\n",
      "Mini-Batch Gradient Descent Progress:\n",
      "[============================================      ] 89%\r\n",
      "Early Stopping on iteration 88\n",
      "\n",
      "Executed in 12.363 seconds\n",
      "Mini-Batch Gradient Descent Progress:\n",
      "[=============================================     ] 90%\r\n",
      "Early Stopping on iteration 89\n",
      "\n",
      "Executed in 10.148 seconds\n",
      "Mini-Batch Gradient Descent Progress:\n",
      "[=============================================     ] 90%\r\n",
      "Early Stopping on iteration 89\n",
      "\n",
      "Executed in 9.661 seconds\n",
      "Mini-Batch Gradient Descent Progress:\n",
      "[=============================================     ] 90%\r\n",
      "Early Stopping on iteration 89\n",
      "\n",
      "Executed in 9.791 seconds\n",
      "Mini-Batch Gradient Descent Progress:\n",
      "[================================================  ] 96%\r\n",
      "Early Stopping on iteration 95\n",
      "\n",
      "Executed in 11.245 seconds\n",
      "Mini-Batch Gradient Descent Progress:\n",
      "[============================================      ] 89%\r\n",
      "Early Stopping on iteration 88\n",
      "\n",
      "Executed in 77.236 seconds\n",
      "Mini-Batch Gradient Descent Progress:\n",
      "[============================================      ] 89%\r\n",
      "Early Stopping on iteration 88\n",
      "\n",
      "Executed in 36.816 seconds\n",
      "Mini-Batch Gradient Descent Progress:\n",
      "[============================================      ] 89%\r\n",
      "Early Stopping on iteration 88\n",
      "\n",
      "Executed in 27.899 seconds\n",
      "Mini-Batch Gradient Descent Progress:\n",
      "[============================================      ] 89%\r\n",
      "Early Stopping on iteration 88\n",
      "\n",
      "Executed in 17.341 seconds\n",
      "Mini-Batch Gradient Descent Progress:\n",
      "[============================================      ] 89%\r\n",
      "Early Stopping on iteration 88\n",
      "\n",
      "Executed in 12.827 seconds\n",
      "Mini-Batch Gradient Descent Progress:\n",
      "[=============================================     ] 90%\r\n",
      "Early Stopping on iteration 89\n",
      "\n",
      "Executed in 11.53 seconds\n",
      "Mini-Batch Gradient Descent Progress:\n",
      "[=============================================     ] 90%\r\n",
      "Early Stopping on iteration 89\n",
      "\n",
      "Executed in 11.149 seconds\n",
      "Mini-Batch Gradient Descent Progress:\n",
      "[=============================================     ] 90%\r\n",
      "Early Stopping on iteration 89\n",
      "\n",
      "Executed in 11.039 seconds\n",
      "Mini-Batch Gradient Descent Progress:\n",
      "[================================================  ] 96%\r\n",
      "Early Stopping on iteration 95\n",
      "\n",
      "Executed in 12.434 seconds\n"
     ]
    }
   ],
   "source": [
    "if __name__ == '__main__':\n",
    "    batch_sizes = [8, 16, 32, 64, 128, 256, 512, 1024, 2048]\n",
    "    iteration_time = []\n",
    "    iteration_mse = []\n",
    "    for i in range(3):\n",
    "        time_lst = []\n",
    "        mse_lst = []\n",
    "        for batch_size in batch_sizes:\n",
    "            num_iterations = 100\n",
    "            par_descent = ParMiniBatchGradientDescent(X, y, learning_rate=0.4, num_iterations=num_iterations, batch_size=batch_size, num_processes=14, max_degree=1, stopping=1e-8)\n",
    "            time = par_descent.optimize()\n",
    "            y_pred = par_descent.predict()\n",
    "            mse = (1 / n_samples) * ((y - y_pred) * (y - y_pred)).sum_elem()\n",
    "            mse_lst.append(mse)\n",
    "            time_lst.append(time)\n",
    "        iteration_time.append(time_lst)\n",
    "        iteration_mse.append(mse_lst)"
   ],
   "metadata": {
    "collapsed": false,
    "ExecuteTime": {
     "end_time": "2024-04-25T16:25:35.414619Z",
     "start_time": "2024-04-25T16:14:09.498358Z"
    }
   },
   "id": "2cbe99b7fc88f838"
  },
  {
   "cell_type": "markdown",
   "source": [
    "Візуалізуємо дані про залежність часу від розміру міні-пакету на графіку:"
   ],
   "metadata": {
    "collapsed": false
   },
   "id": "7b0cf6580c3d1294"
  },
  {
   "cell_type": "code",
   "execution_count": 8,
   "id": "d03bbc8fcda25f71",
   "metadata": {
    "collapsed": false,
    "ExecuteTime": {
     "end_time": "2024-04-25T16:25:35.581062Z",
     "start_time": "2024-04-25T16:25:35.415163Z"
    }
   },
   "outputs": [
    {
     "data": {
      "text/plain": "<Figure size 640x480 with 1 Axes>",
      "image/png": "[encoded data removed]"
     },
     "metadata": {},
     "output_type": "display_data"
    }
   ],
   "source": [
    "experiment_df = pd.DataFrame({'iter_one_time': iteration_time[0], \n",
    "                              'iter_two_time': iteration_time[1],\n",
    "                              'iter_three_time': iteration_time[2],\n",
    "                              'iter_one_mse': iteration_mse[0],\n",
    "                              'iter_two_mse': iteration_mse[1],\n",
    "                              'iter_three_mse': iteration_mse[2],\n",
    "                              'batch_size': batch_sizes})\n",
    "experiment_df['avg_time'] = (experiment_df['iter_one_time'] + experiment_df['iter_two_time'] + experiment_df['iter_three_time']) / 3\n",
    "experiment_df['avg_mse'] = (experiment_df['iter_one_mse'] + experiment_df['iter_two_mse'] + experiment_df['iter_three_mse']) / 3\n",
    "plt.plot(experiment_df['batch_size'], experiment_df['avg_time'])\n",
    "plt.xlabel('Batch Size')\n",
    "plt.grid()\n",
    "plt.ylabel('Execution Time, Seconds')\n",
    "plt.show()"
   ]
  },
  {
   "cell_type": "markdown",
   "source": [
    "Візуалізуємо дані про залежність середньквадратичної похибки на графіку:"
   ],
   "metadata": {
    "collapsed": false
   },
   "id": "3b5a5a19ae05899a"
  },
  {
   "cell_type": "code",
   "execution_count": 9,
   "id": "1c1970043c1f43c7",
   "metadata": {
    "collapsed": false,
    "ExecuteTime": {
     "end_time": "2024-04-25T16:25:35.714624Z",
     "start_time": "2024-04-25T16:25:35.570577Z"
    }
   },
   "outputs": [
    {
     "data": {
      "text/plain": "<Figure size 640x480 with 1 Axes>",
      "image/png": "[encoded data removed]"
     },
     "metadata": {},
     "output_type": "display_data"
    }
   ],
   "source": [
    "plt.plot(experiment_df['batch_size'], experiment_df['avg_mse'])\n",
    "plt.xlabel('Batch Size')\n",
    "plt.grid()\n",
    "plt.ylabel('MSE')\n",
    "plt.show()"
   ]
  },
  {
   "cell_type": "markdown",
   "source": [
    "Виводимо дані у таблиці:"
   ],
   "metadata": {
    "collapsed": false
   },
   "id": "4006e84740775d9b"
  },
  {
   "cell_type": "code",
   "execution_count": 10,
   "id": "1fb2a5021d26fdfb",
   "metadata": {
    "collapsed": false,
    "ExecuteTime": {
     "end_time": "2024-04-25T16:25:35.732797Z",
     "start_time": "2024-04-25T16:25:35.712202Z"
    }
   },
   "outputs": [
    {
     "data": {
      "text/plain": "   iter_one_time  iter_two_time  iter_three_time  iter_one_mse  iter_two_mse  \\\n0      76.246442      77.010089        77.235718  1.126982e-17  1.126982e-17   \n1      60.477854      42.866919        36.815521  1.126982e-17  1.126982e-17   \n2      25.069484      24.151656        27.898976  1.168949e-17  1.168949e-17   \n3      18.053743      16.444316        17.340935  1.257746e-17  1.257746e-17   \n4      12.400642      12.362712        12.826942  1.257553e-17  1.257553e-17   \n5      10.273869      10.147541        11.530241  1.108988e-17  1.108988e-17   \n6      10.707288       9.660846        11.148822  1.106446e-17  1.106446e-17   \n7       9.606693       9.790903        11.039120  1.101386e-17  1.101386e-17   \n8      11.661306      11.245413        12.434126  1.141518e-17  1.141518e-17   \n\n   iter_three_mse  batch_size   avg_time       avg_mse  \n0    1.126982e-17           8  76.830750  1.126982e-17  \n1    1.126982e-17          16  46.720098  1.126982e-17  \n2    1.168949e-17          32  25.706705  1.168949e-17  \n3    1.257746e-17          64  17.279665  1.257746e-17  \n4    1.257553e-17         128  12.530099  1.257553e-17  \n5    1.108988e-17         256  10.650550  1.108988e-17  \n6    1.106446e-17         512  10.505652  1.106446e-17  \n7    1.101386e-17        1024  10.145572  1.101386e-17  \n8    1.141518e-17        2048  11.780282  1.141518e-17  ",
      "text/html": "<div>\n<style scoped>\n    .dataframe tbody tr th:only-of-type {\n        vertical-align: middle;\n    }\n\n    .dataframe tbody tr th {\n        vertical-align: top;\n    }\n\n    .dataframe thead th {\n        text-align: right;\n    }\n</style>\n<table border=\"1\" class=\"dataframe\">\n  <thead>\n    <tr style=\"text-align: right;\">\n      <th></th>\n      <th>iter_one_time</th>\n      <th>iter_two_time</th>\n      <th>iter_three_time</th>\n      <th>iter_one_mse</th>\n      <th>iter_two_mse</th>\n      <th>iter_three_mse</th>\n      <th>batch_size</th>\n      <th>avg_time</th>\n      <th>avg_mse</th>\n    </tr>\n  </thead>\n  <tbody>\n    <tr>\n      <th>0</th>\n      <td>76.246442</td>\n      <td>77.010089</td>\n      <td>77.235718</td>\n      <td>1.126982e-17</td>\n      <td>1.126982e-17</td>\n      <td>1.126982e-17</td>\n      <td>8</td>\n      <td>76.830750</td>\n      <td>1.126982e-17</td>\n    </tr>\n    <tr>\n      <th>1</th>\n      <td>60.477854</td>\n      <td>42.866919</td>\n      <td>36.815521</td>\n      <td>1.126982e-17</td>\n      <td>1.126982e-17</td>\n      <td>1.126982e-17</td>\n      <td>16</td>\n      <td>46.720098</td>\n      <td>1.126982e-17</td>\n    </tr>\n    <tr>\n      <th>2</th>\n      <td>25.069484</td>\n      <td>24.151656</td>\n      <td>27.898976</td>\n      <td>1.168949e-17</td>\n      <td>1.168949e-17</td>\n      <td>1.168949e-17</td>\n      <td>32</td>\n      <td>25.706705</td>\n      <td>1.168949e-17</td>\n    </tr>\n    <tr>\n      <th>3</th>\n      <td>18.053743</td>\n      <td>16.444316</td>\n      <td>17.340935</td>\n      <td>1.257746e-17</td>\n      <td>1.257746e-17</td>\n      <td>1.257746e-17</td>\n      <td>64</td>\n      <td>17.279665</td>\n      <td>1.257746e-17</td>\n    </tr>\n    <tr>\n      <th>4</th>\n      <td>12.400642</td>\n      <td>12.362712</td>\n      <td>12.826942</td>\n      <td>1.257553e-17</td>\n      <td>1.257553e-17</td>\n      <td>1.257553e-17</td>\n      <td>128</td>\n      <td>12.530099</td>\n      <td>1.257553e-17</td>\n    </tr>\n    <tr>\n      <th>5</th>\n      <td>10.273869</td>\n      <td>10.147541</td>\n      <td>11.530241</td>\n      <td>1.108988e-17</td>\n      <td>1.108988e-17</td>\n      <td>1.108988e-17</td>\n      <td>256</td>\n      <td>10.650550</td>\n      <td>1.108988e-17</td>\n    </tr>\n    <tr>\n      <th>6</th>\n      <td>10.707288</td>\n      <td>9.660846</td>\n      <td>11.148822</td>\n      <td>1.106446e-17</td>\n      <td>1.106446e-17</td>\n      <td>1.106446e-17</td>\n      <td>512</td>\n      <td>10.505652</td>\n      <td>1.106446e-17</td>\n    </tr>\n    <tr>\n      <th>7</th>\n      <td>9.606693</td>\n      <td>9.790903</td>\n      <td>11.039120</td>\n      <td>1.101386e-17</td>\n      <td>1.101386e-17</td>\n      <td>1.101386e-17</td>\n      <td>1024</td>\n      <td>10.145572</td>\n      <td>1.101386e-17</td>\n    </tr>\n    <tr>\n      <th>8</th>\n      <td>11.661306</td>\n      <td>11.245413</td>\n      <td>12.434126</td>\n      <td>1.141518e-17</td>\n      <td>1.141518e-17</td>\n      <td>1.141518e-17</td>\n      <td>2048</td>\n      <td>11.780282</td>\n      <td>1.141518e-17</td>\n    </tr>\n  </tbody>\n</table>\n</div>"
     },
     "execution_count": 10,
     "metadata": {},
     "output_type": "execute_result"
    }
   ],
   "source": [
    "experiment_df"
   ]
  },
  {
   "cell_type": "code",
   "execution_count": null,
   "outputs": [],
   "source": [],
   "metadata": {
    "collapsed": false
   },
   "id": "6734c3091077ee22"
  }
 ],
 "metadata": {
  "kernelspec": {
   "display_name": "Python 3 (ipykernel)",
   "language": "python",
   "name": "python3"
  },
  "language_info": {
   "codemirror_mode": {
    "name": "ipython",
    "version": 3
   },
   "file_extension": ".py",
   "mimetype": "text/x-python",
   "name": "python",
   "nbconvert_exporter": "python",
   "pygments_lexer": "ipython3",
   "version": "3.10.11"
  }
 },
 "nbformat": 4,
 "nbformat_minor": 5
}
