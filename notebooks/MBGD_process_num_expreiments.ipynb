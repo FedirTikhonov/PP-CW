{
 "cells": [
  {
   "cell_type": "markdown",
   "id": "ec852bd1cc368787",
   "metadata": {
    "collapsed": false,
    "jupyter": {
     "outputs_hidden": false
    }
   },
   "source": [
    "Імпортуємо бібліотеки:"
   ]
  },
  {
   "cell_type": "code",
   "execution_count": 14,
   "id": "initial_id",
   "metadata": {
    "ExecuteTime": {
     "end_time": "2024-04-25T15:09:35.849813Z",
     "start_time": "2024-04-25T15:09:35.839967Z"
    },
    "collapsed": true,
    "jupyter": {
     "outputs_hidden": true
    }
   },
   "outputs": [],
   "source": [
    "from parallelized_functions.Matrix import Matrix\n",
    "from parallelized_functions.ParMiniBatchGradientDescent import ParMiniBatchGradientDescent\n",
    "import matplotlib.pyplot as plt\n",
    "import pandas as pd"
   ]
  },
  {
   "cell_type": "markdown",
   "id": "9f43ee7b86429062",
   "metadata": {
    "collapsed": false,
    "jupyter": {
     "outputs_hidden": false
    }
   },
   "source": [
    "Виконуємо експеримент для різної кількості процесів:"
   ]
  },
  {
   "cell_type": "code",
   "execution_count": 15,
   "id": "2cbe99b7fc88f838",
   "metadata": {
    "ExecuteTime": {
     "end_time": "2024-04-25T15:21:43.865401Z",
     "start_time": "2024-04-25T15:09:35.918325Z"
    },
    "collapsed": false,
    "jupyter": {
     "outputs_hidden": false
    }
   },
   "outputs": [
    {
     "name": "stdout",
     "output_type": "stream",
     "text": [
      "1\n",
      "Mini-Batch Gradient Descent Progress:\n",
      "[==================================================] 100%\r\n",
      "Executed in 44.735 seconds\n",
      "2\n",
      "Mini-Batch Gradient Descent Progress:\n",
      "[==================================================] 100%\r\n",
      "Executed in 23.17 seconds\n",
      "3\n",
      "Mini-Batch Gradient Descent Progress:\n",
      "[==================================================] 100%\r\n",
      "Executed in 16.401 seconds\n",
      "4\n",
      "Mini-Batch Gradient Descent Progress:\n",
      "[==================================================] 100%\r\n",
      "Executed in 19.304 seconds\n",
      "5\n",
      "Mini-Batch Gradient Descent Progress:\n",
      "[==================================================] 100%\r\n",
      "Executed in 14.057 seconds\n",
      "6\n",
      "Mini-Batch Gradient Descent Progress:\n",
      "[==================================================] 100%\r\n",
      "Executed in 13.052 seconds\n",
      "7\n",
      "Mini-Batch Gradient Descent Progress:\n",
      "[==================================================] 100%\r\n",
      "Executed in 11.481 seconds\n",
      "8\n",
      "Mini-Batch Gradient Descent Progress:\n",
      "[==================================================] 100%\r\n",
      "Executed in 14.011 seconds\n",
      "9\n",
      "Mini-Batch Gradient Descent Progress:\n",
      "[==================================================] 100%\r\n",
      "Executed in 14.933 seconds\n",
      "10\n",
      "Mini-Batch Gradient Descent Progress:\n",
      "[==================================================] 100%\r\n",
      "Executed in 15.126 seconds\n",
      "11\n",
      "Mini-Batch Gradient Descent Progress:\n",
      "[==================================================] 100%\r\n",
      "Executed in 12.06 seconds\n",
      "12\n",
      "Mini-Batch Gradient Descent Progress:\n",
      "[==================================================] 100%\r\n",
      "Executed in 12.266 seconds\n",
      "13\n",
      "Mini-Batch Gradient Descent Progress:\n",
      "[==================================================] 100%\r\n",
      "Executed in 12.164 seconds\n",
      "14\n",
      "Mini-Batch Gradient Descent Progress:\n",
      "[==================================================] 100%\r\n",
      "Executed in 11.833 seconds\n",
      "15\n",
      "Mini-Batch Gradient Descent Progress:\n",
      "[==================================================] 100%\r\n",
      "Executed in 12.097 seconds\n",
      "16\n",
      "Mini-Batch Gradient Descent Progress:\n",
      "[==================================================] 100%\r\n",
      "Executed in 11.926 seconds\n",
      "1\n",
      "Mini-Batch Gradient Descent Progress:\n",
      "[==================================================] 100%\r\n",
      "Executed in 43.784 seconds\n",
      "2\n",
      "Mini-Batch Gradient Descent Progress:\n",
      "[==================================================] 100%\r\n",
      "Executed in 23.827 seconds\n",
      "3\n",
      "Mini-Batch Gradient Descent Progress:\n",
      "[==================================================] 100%\r\n",
      "Executed in 19.94 seconds\n",
      "4\n",
      "Mini-Batch Gradient Descent Progress:\n",
      "[==================================================] 100%\r\n",
      "Executed in 14.491 seconds\n",
      "5\n",
      "Mini-Batch Gradient Descent Progress:\n",
      "[==================================================] 100%\r\n",
      "Executed in 13.687 seconds\n",
      "6\n",
      "Mini-Batch Gradient Descent Progress:\n",
      "[==================================================] 100%\r\n",
      "Executed in 13.479 seconds\n",
      "7\n",
      "Mini-Batch Gradient Descent Progress:\n",
      "[==================================================] 100%\r\n",
      "Executed in 12.478 seconds\n",
      "8\n",
      "Mini-Batch Gradient Descent Progress:\n",
      "[==================================================] 100%\r\n",
      "Executed in 11.352 seconds\n",
      "9\n",
      "Mini-Batch Gradient Descent Progress:\n",
      "[==================================================] 100%\r\n",
      "Executed in 11.411 seconds\n",
      "10\n",
      "Mini-Batch Gradient Descent Progress:\n",
      "[==================================================] 100%\r\n",
      "Executed in 11.338 seconds\n",
      "11\n",
      "Mini-Batch Gradient Descent Progress:\n",
      "[==================================================] 100%\r\n",
      "Executed in 11.513 seconds\n",
      "12\n",
      "Mini-Batch Gradient Descent Progress:\n",
      "[==================================================] 100%\r\n",
      "Executed in 11.38 seconds\n",
      "13\n",
      "Mini-Batch Gradient Descent Progress:\n",
      "[==================================================] 100%\r\n",
      "Executed in 10.847 seconds\n",
      "14\n",
      "Mini-Batch Gradient Descent Progress:\n",
      "[==================================================] 100%\r\n",
      "Executed in 10.441 seconds\n",
      "15\n",
      "Mini-Batch Gradient Descent Progress:\n",
      "[==================================================] 100%\r\n",
      "Executed in 10.385 seconds\n",
      "16\n",
      "Mini-Batch Gradient Descent Progress:\n",
      "[==================================================] 100%\r\n",
      "Executed in 10.498 seconds\n",
      "1\n",
      "Mini-Batch Gradient Descent Progress:\n",
      "[==================================================] 100%\r\n",
      "Executed in 39.271 seconds\n",
      "2\n",
      "Mini-Batch Gradient Descent Progress:\n",
      "[==================================================] 100%\r\n",
      "Executed in 20.814 seconds\n",
      "3\n",
      "Mini-Batch Gradient Descent Progress:\n",
      "[==================================================] 100%\r\n",
      "Executed in 14.839 seconds\n",
      "4\n",
      "Mini-Batch Gradient Descent Progress:\n",
      "[==================================================] 100%\r\n",
      "Executed in 12.041 seconds\n",
      "5\n",
      "Mini-Batch Gradient Descent Progress:\n",
      "[==================================================] 100%\r\n",
      "Executed in 11.374 seconds\n",
      "6\n",
      "Mini-Batch Gradient Descent Progress:\n",
      "[==================================================] 100%\r\n",
      "Executed in 10.916 seconds\n",
      "7\n",
      "Mini-Batch Gradient Descent Progress:\n",
      "[==================================================] 100%\r\n",
      "Executed in 10.566 seconds\n",
      "8\n",
      "Mini-Batch Gradient Descent Progress:\n",
      "[==================================================] 100%\r\n",
      "Executed in 10.417 seconds\n",
      "9\n",
      "Mini-Batch Gradient Descent Progress:\n",
      "[==================================================] 100%\r\n",
      "Executed in 10.394 seconds\n",
      "10\n",
      "Mini-Batch Gradient Descent Progress:\n",
      "[==================================================] 100%\r\n",
      "Executed in 10.463 seconds\n",
      "11\n",
      "Mini-Batch Gradient Descent Progress:\n",
      "[==================================================] 100%\r\n",
      "Executed in 10.305 seconds\n",
      "12\n",
      "Mini-Batch Gradient Descent Progress:\n",
      "[==================================================] 100%\r\n",
      "Executed in 10.434 seconds\n",
      "13\n",
      "Mini-Batch Gradient Descent Progress:\n",
      "[==================================================] 100%\r\n",
      "Executed in 10.523 seconds\n",
      "14\n",
      "Mini-Batch Gradient Descent Progress:\n",
      "[==================================================] 100%\r\n",
      "Executed in 10.45 seconds\n",
      "15\n",
      "Mini-Batch Gradient Descent Progress:\n",
      "[==================================================] 100%\r\n",
      "Executed in 10.671 seconds\n",
      "16\n",
      "Mini-Batch Gradient Descent Progress:\n",
      "[==================================================] 100%\r\n",
      "Executed in 10.402 seconds\n"
     ]
    }
   ],
   "source": [
    "if __name__ == '__main__':\n",
    "    iterations_time = []\n",
    "    iterations_processes = []\n",
    "    for i in range(3):\n",
    "        time_lst = []\n",
    "        processes_lst = []\n",
    "        for num_processes in range(1, 17):\n",
    "            print(num_processes)\n",
    "            n_samples = 50000\n",
    "            X = Matrix([[i * 2,\n",
    "                         i + 5,\n",
    "                         i - 10,\n",
    "                         7 - i,\n",
    "                         i * (-10)] for i in range(n_samples)])\n",
    "            X, X_min, X_max = X.normalise()\n",
    "            y = Matrix([[5 * X[i, 0] - 3 * X[i, 1] + 2 * X[i, 2] - X[i, 3] - 5 * X[i, 4] + 10] for i in range(n_samples)])\n",
    "            y, y_min, y_max = y.normalise()\n",
    "            num_iterations = 100\n",
    "            par_descent = ParMiniBatchGradientDescent(X, y, learning_rate=0.4, num_iterations=num_iterations, batch_size=1024, num_processes=num_processes, stopping=1e-8, max_degree=1)\n",
    "            time = par_descent.optimize()\n",
    "            time_lst.append(time)\n",
    "            processes_lst.append(num_processes)\n",
    "        iterations_time.append(time_lst)\n",
    "        iterations_processes.append(processes_lst)"
   ]
  },
  {
   "cell_type": "markdown",
   "id": "958016c55ab63b59",
   "metadata": {
    "collapsed": false,
    "jupyter": {
     "outputs_hidden": false
    }
   },
   "source": [
    "Візуалізуємо на графіку:"
   ]
  },
  {
   "cell_type": "code",
   "execution_count": 16,
   "id": "d03bbc8fcda25f71",
   "metadata": {
    "ExecuteTime": {
     "end_time": "2024-04-25T15:21:43.986739Z",
     "start_time": "2024-04-25T15:21:43.865641Z"
    },
    "collapsed": false,
    "jupyter": {
     "outputs_hidden": false
    }
   },
   "outputs": [
    {
     "data": {
      "image/png": "[encoded data removed]",
      "text/plain": [
       "<Figure size 640x480 with 1 Axes>"
      ]
     },
     "metadata": {},
     "output_type": "display_data"
    }
   ],
   "source": [
    "experiment_df = pd.DataFrame({'processes': iterations_processes[0], 'iter_one': iterations_time[0],  'iter_two': iterations_time[1], 'iter_three': iterations_time[2]})\n",
    "plt.plot(experiment_df['processes'], experiment_df['iter_one'])\n",
    "plt.xlabel('Number of Subprocesses on the 1 Round')\n",
    "plt.grid()\n",
    "plt.ylabel('Execution Time, Seconds')\n",
    "plt.show()"
   ]
  },
  {
   "cell_type": "code",
   "execution_count": 17,
   "id": "681101c40c907e39",
   "metadata": {
    "ExecuteTime": {
     "end_time": "2024-04-25T15:21:44.115699Z",
     "start_time": "2024-04-25T15:21:44.093898Z"
    },
    "collapsed": false,
    "jupyter": {
     "outputs_hidden": false
    }
   },
   "outputs": [
    {
     "data": {
      "image/png": "[encoded data removed]",
      "text/plain": [
       "<Figure size 640x480 with 1 Axes>"
      ]
     },
     "metadata": {},
     "output_type": "display_data"
    }
   ],
   "source": [
    "plt.plot(experiment_df['processes'], experiment_df['iter_two'])\n",
    "plt.xlabel('Number of Subprocesses on the 2 Round')\n",
    "plt.grid()\n",
    "plt.ylabel('Execution Time, Seconds')\n",
    "plt.show()"
   ]
  },
  {
   "cell_type": "code",
   "execution_count": 18,
   "id": "a58c20ce0893a57c",
   "metadata": {
    "ExecuteTime": {
     "end_time": "2024-04-25T15:21:44.252834Z",
     "start_time": "2024-04-25T15:21:44.116445Z"
    },
    "collapsed": false,
    "jupyter": {
     "outputs_hidden": false
    }
   },
   "outputs": [
    {
     "data": {
      "image/png": "[encoded data removed]",
      "text/plain": [
       "<Figure size 640x480 with 1 Axes>"
      ]
     },
     "metadata": {},
     "output_type": "display_data"
    }
   ],
   "source": [
    "plt.plot(experiment_df['processes'], experiment_df['iter_three'])\n",
    "plt.xlabel('Number of Subprocesses on the 3 Round')\n",
    "plt.grid()\n",
    "plt.ylabel('Execution Time, Seconds')\n",
    "plt.show()"
   ]
  },
  {
   "cell_type": "markdown",
   "id": "c2d655606384708d",
   "metadata": {
    "collapsed": false,
    "jupyter": {
     "outputs_hidden": false
    }
   },
   "source": [
    "У таблиці:"
   ]
  },
  {
   "cell_type": "code",
   "execution_count": 19,
   "id": "af9bfe04c6a695cb",
   "metadata": {
    "ExecuteTime": {
     "end_time": "2024-04-25T15:21:44.262844Z",
     "start_time": "2024-04-25T15:21:44.252727Z"
    },
    "collapsed": false,
    "jupyter": {
     "outputs_hidden": false
    }
   },
   "outputs": [
    {
     "data": {
      "text/html": [
       "<div>\n",
       "<style scoped>\n",
       "    .dataframe tbody tr th:only-of-type {\n",
       "        vertical-align: middle;\n",
       "    }\n",
       "\n",
       "    .dataframe tbody tr th {\n",
       "        vertical-align: top;\n",
       "    }\n",
       "\n",
       "    .dataframe thead th {\n",
       "        text-align: right;\n",
       "    }\n",
       "</style>\n",
       "<table border=\"1\" class=\"dataframe\">\n",
       "  <thead>\n",
       "    <tr style=\"text-align: right;\">\n",
       "      <th></th>\n",
       "      <th>processes</th>\n",
       "      <th>iter_one</th>\n",
       "      <th>iter_two</th>\n",
       "      <th>iter_three</th>\n",
       "    </tr>\n",
       "  </thead>\n",
       "  <tbody>\n",
       "    <tr>\n",
       "      <th>0</th>\n",
       "      <td>1</td>\n",
       "      <td>44.735188</td>\n",
       "      <td>43.783946</td>\n",
       "      <td>39.271311</td>\n",
       "    </tr>\n",
       "    <tr>\n",
       "      <th>1</th>\n",
       "      <td>2</td>\n",
       "      <td>23.169742</td>\n",
       "      <td>23.826998</td>\n",
       "      <td>20.814192</td>\n",
       "    </tr>\n",
       "    <tr>\n",
       "      <th>2</th>\n",
       "      <td>3</td>\n",
       "      <td>16.401435</td>\n",
       "      <td>19.939893</td>\n",
       "      <td>14.839453</td>\n",
       "    </tr>\n",
       "    <tr>\n",
       "      <th>3</th>\n",
       "      <td>4</td>\n",
       "      <td>19.303956</td>\n",
       "      <td>14.490517</td>\n",
       "      <td>12.040704</td>\n",
       "    </tr>\n",
       "    <tr>\n",
       "      <th>4</th>\n",
       "      <td>5</td>\n",
       "      <td>14.057023</td>\n",
       "      <td>13.687116</td>\n",
       "      <td>11.374417</td>\n",
       "    </tr>\n",
       "    <tr>\n",
       "      <th>5</th>\n",
       "      <td>6</td>\n",
       "      <td>13.052068</td>\n",
       "      <td>13.479485</td>\n",
       "      <td>10.915975</td>\n",
       "    </tr>\n",
       "    <tr>\n",
       "      <th>6</th>\n",
       "      <td>7</td>\n",
       "      <td>11.481244</td>\n",
       "      <td>12.478308</td>\n",
       "      <td>10.565728</td>\n",
       "    </tr>\n",
       "    <tr>\n",
       "      <th>7</th>\n",
       "      <td>8</td>\n",
       "      <td>14.011223</td>\n",
       "      <td>11.352478</td>\n",
       "      <td>10.416532</td>\n",
       "    </tr>\n",
       "    <tr>\n",
       "      <th>8</th>\n",
       "      <td>9</td>\n",
       "      <td>14.932922</td>\n",
       "      <td>11.411429</td>\n",
       "      <td>10.394200</td>\n",
       "    </tr>\n",
       "    <tr>\n",
       "      <th>9</th>\n",
       "      <td>10</td>\n",
       "      <td>15.126027</td>\n",
       "      <td>11.338340</td>\n",
       "      <td>10.463190</td>\n",
       "    </tr>\n",
       "    <tr>\n",
       "      <th>10</th>\n",
       "      <td>11</td>\n",
       "      <td>12.060377</td>\n",
       "      <td>11.512666</td>\n",
       "      <td>10.305280</td>\n",
       "    </tr>\n",
       "    <tr>\n",
       "      <th>11</th>\n",
       "      <td>12</td>\n",
       "      <td>12.265940</td>\n",
       "      <td>11.379978</td>\n",
       "      <td>10.434307</td>\n",
       "    </tr>\n",
       "    <tr>\n",
       "      <th>12</th>\n",
       "      <td>13</td>\n",
       "      <td>12.163645</td>\n",
       "      <td>10.846929</td>\n",
       "      <td>10.522866</td>\n",
       "    </tr>\n",
       "    <tr>\n",
       "      <th>13</th>\n",
       "      <td>14</td>\n",
       "      <td>11.833435</td>\n",
       "      <td>10.441365</td>\n",
       "      <td>10.450305</td>\n",
       "    </tr>\n",
       "    <tr>\n",
       "      <th>14</th>\n",
       "      <td>15</td>\n",
       "      <td>12.096543</td>\n",
       "      <td>10.384644</td>\n",
       "      <td>10.670744</td>\n",
       "    </tr>\n",
       "    <tr>\n",
       "      <th>15</th>\n",
       "      <td>16</td>\n",
       "      <td>11.926364</td>\n",
       "      <td>10.498398</td>\n",
       "      <td>10.402440</td>\n",
       "    </tr>\n",
       "  </tbody>\n",
       "</table>\n",
       "</div>"
      ],
      "text/plain": [
       "    processes   iter_one   iter_two  iter_three\n",
       "0           1  44.735188  43.783946   39.271311\n",
       "1           2  23.169742  23.826998   20.814192\n",
       "2           3  16.401435  19.939893   14.839453\n",
       "3           4  19.303956  14.490517   12.040704\n",
       "4           5  14.057023  13.687116   11.374417\n",
       "5           6  13.052068  13.479485   10.915975\n",
       "6           7  11.481244  12.478308   10.565728\n",
       "7           8  14.011223  11.352478   10.416532\n",
       "8           9  14.932922  11.411429   10.394200\n",
       "9          10  15.126027  11.338340   10.463190\n",
       "10         11  12.060377  11.512666   10.305280\n",
       "11         12  12.265940  11.379978   10.434307\n",
       "12         13  12.163645  10.846929   10.522866\n",
       "13         14  11.833435  10.441365   10.450305\n",
       "14         15  12.096543  10.384644   10.670744\n",
       "15         16  11.926364  10.498398   10.402440"
      ]
     },
     "execution_count": 19,
     "metadata": {},
     "output_type": "execute_result"
    }
   ],
   "source": [
    "experiment_df"
   ]
  },
  {
   "cell_type": "code",
   "execution_count": 20,
   "id": "b1140194ec3c4b98",
   "metadata": {
    "ExecuteTime": {
     "end_time": "2024-04-25T15:29:36.257445Z",
     "start_time": "2024-04-25T15:29:36.252039Z"
    },
    "collapsed": false,
    "jupyter": {
     "outputs_hidden": false
    }
   },
   "outputs": [
    {
     "data": {
      "text/html": [
       "<div>\n",
       "<style scoped>\n",
       "    .dataframe tbody tr th:only-of-type {\n",
       "        vertical-align: middle;\n",
       "    }\n",
       "\n",
       "    .dataframe tbody tr th {\n",
       "        vertical-align: top;\n",
       "    }\n",
       "\n",
       "    .dataframe thead th {\n",
       "        text-align: right;\n",
       "    }\n",
       "</style>\n",
       "<table border=\"1\" class=\"dataframe\">\n",
       "  <thead>\n",
       "    <tr style=\"text-align: right;\">\n",
       "      <th></th>\n",
       "      <th>processes</th>\n",
       "      <th>iter_one</th>\n",
       "      <th>iter_two</th>\n",
       "      <th>iter_three</th>\n",
       "      <th>avg</th>\n",
       "    </tr>\n",
       "  </thead>\n",
       "  <tbody>\n",
       "    <tr>\n",
       "      <th>0</th>\n",
       "      <td>1</td>\n",
       "      <td>44.735188</td>\n",
       "      <td>43.783946</td>\n",
       "      <td>39.271311</td>\n",
       "      <td>42.596815</td>\n",
       "    </tr>\n",
       "    <tr>\n",
       "      <th>1</th>\n",
       "      <td>2</td>\n",
       "      <td>23.169742</td>\n",
       "      <td>23.826998</td>\n",
       "      <td>20.814192</td>\n",
       "      <td>22.603644</td>\n",
       "    </tr>\n",
       "    <tr>\n",
       "      <th>2</th>\n",
       "      <td>3</td>\n",
       "      <td>16.401435</td>\n",
       "      <td>19.939893</td>\n",
       "      <td>14.839453</td>\n",
       "      <td>17.060260</td>\n",
       "    </tr>\n",
       "    <tr>\n",
       "      <th>3</th>\n",
       "      <td>4</td>\n",
       "      <td>19.303956</td>\n",
       "      <td>14.490517</td>\n",
       "      <td>12.040704</td>\n",
       "      <td>15.278392</td>\n",
       "    </tr>\n",
       "    <tr>\n",
       "      <th>4</th>\n",
       "      <td>5</td>\n",
       "      <td>14.057023</td>\n",
       "      <td>13.687116</td>\n",
       "      <td>11.374417</td>\n",
       "      <td>13.039519</td>\n",
       "    </tr>\n",
       "    <tr>\n",
       "      <th>5</th>\n",
       "      <td>6</td>\n",
       "      <td>13.052068</td>\n",
       "      <td>13.479485</td>\n",
       "      <td>10.915975</td>\n",
       "      <td>12.482509</td>\n",
       "    </tr>\n",
       "    <tr>\n",
       "      <th>6</th>\n",
       "      <td>7</td>\n",
       "      <td>11.481244</td>\n",
       "      <td>12.478308</td>\n",
       "      <td>10.565728</td>\n",
       "      <td>11.508427</td>\n",
       "    </tr>\n",
       "    <tr>\n",
       "      <th>7</th>\n",
       "      <td>8</td>\n",
       "      <td>14.011223</td>\n",
       "      <td>11.352478</td>\n",
       "      <td>10.416532</td>\n",
       "      <td>11.926744</td>\n",
       "    </tr>\n",
       "    <tr>\n",
       "      <th>8</th>\n",
       "      <td>9</td>\n",
       "      <td>14.932922</td>\n",
       "      <td>11.411429</td>\n",
       "      <td>10.394200</td>\n",
       "      <td>12.246184</td>\n",
       "    </tr>\n",
       "    <tr>\n",
       "      <th>9</th>\n",
       "      <td>10</td>\n",
       "      <td>15.126027</td>\n",
       "      <td>11.338340</td>\n",
       "      <td>10.463190</td>\n",
       "      <td>12.309186</td>\n",
       "    </tr>\n",
       "    <tr>\n",
       "      <th>10</th>\n",
       "      <td>11</td>\n",
       "      <td>12.060377</td>\n",
       "      <td>11.512666</td>\n",
       "      <td>10.305280</td>\n",
       "      <td>11.292774</td>\n",
       "    </tr>\n",
       "    <tr>\n",
       "      <th>11</th>\n",
       "      <td>12</td>\n",
       "      <td>12.265940</td>\n",
       "      <td>11.379978</td>\n",
       "      <td>10.434307</td>\n",
       "      <td>11.360075</td>\n",
       "    </tr>\n",
       "    <tr>\n",
       "      <th>12</th>\n",
       "      <td>13</td>\n",
       "      <td>12.163645</td>\n",
       "      <td>10.846929</td>\n",
       "      <td>10.522866</td>\n",
       "      <td>11.177813</td>\n",
       "    </tr>\n",
       "    <tr>\n",
       "      <th>13</th>\n",
       "      <td>14</td>\n",
       "      <td>11.833435</td>\n",
       "      <td>10.441365</td>\n",
       "      <td>10.450305</td>\n",
       "      <td>10.908369</td>\n",
       "    </tr>\n",
       "    <tr>\n",
       "      <th>14</th>\n",
       "      <td>15</td>\n",
       "      <td>12.096543</td>\n",
       "      <td>10.384644</td>\n",
       "      <td>10.670744</td>\n",
       "      <td>11.050644</td>\n",
       "    </tr>\n",
       "    <tr>\n",
       "      <th>15</th>\n",
       "      <td>16</td>\n",
       "      <td>11.926364</td>\n",
       "      <td>10.498398</td>\n",
       "      <td>10.402440</td>\n",
       "      <td>10.942401</td>\n",
       "    </tr>\n",
       "  </tbody>\n",
       "</table>\n",
       "</div>"
      ],
      "text/plain": [
       "    processes   iter_one   iter_two  iter_three        avg\n",
       "0           1  44.735188  43.783946   39.271311  42.596815\n",
       "1           2  23.169742  23.826998   20.814192  22.603644\n",
       "2           3  16.401435  19.939893   14.839453  17.060260\n",
       "3           4  19.303956  14.490517   12.040704  15.278392\n",
       "4           5  14.057023  13.687116   11.374417  13.039519\n",
       "5           6  13.052068  13.479485   10.915975  12.482509\n",
       "6           7  11.481244  12.478308   10.565728  11.508427\n",
       "7           8  14.011223  11.352478   10.416532  11.926744\n",
       "8           9  14.932922  11.411429   10.394200  12.246184\n",
       "9          10  15.126027  11.338340   10.463190  12.309186\n",
       "10         11  12.060377  11.512666   10.305280  11.292774\n",
       "11         12  12.265940  11.379978   10.434307  11.360075\n",
       "12         13  12.163645  10.846929   10.522866  11.177813\n",
       "13         14  11.833435  10.441365   10.450305  10.908369\n",
       "14         15  12.096543  10.384644   10.670744  11.050644\n",
       "15         16  11.926364  10.498398   10.402440  10.942401"
      ]
     },
     "execution_count": 20,
     "metadata": {},
     "output_type": "execute_result"
    }
   ],
   "source": [
    "experiment_df['avg'] = (experiment_df['iter_one'] + experiment_df['iter_two'] + experiment_df['iter_three']) / 3\n",
    "experiment_df"
   ]
  },
  {
   "cell_type": "code",
   "execution_count": 21,
   "id": "3822ba8d6d348f33",
   "metadata": {
    "ExecuteTime": {
     "end_time": "2024-04-25T15:37:28.262769Z",
     "start_time": "2024-04-25T15:37:28.207047Z"
    },
    "collapsed": false,
    "jupyter": {
     "outputs_hidden": false
    }
   },
   "outputs": [
    {
     "data": {
      "image/png": "[encoded data removed]",
      "text/plain": [
       "<Figure size 640x480 with 1 Axes>"
      ]
     },
     "metadata": {},
     "output_type": "display_data"
    }
   ],
   "source": [
    "plt.plot(experiment_df['processes'], experiment_df['avg'])\n",
    "plt.xlabel('Number of Subprocesses')\n",
    "plt.grid()\n",
    "plt.ylabel('Execution Time on average, Seconds')\n",
    "plt.show()"
   ]
  }
 ],
 "metadata": {
  "kernelspec": {
   "display_name": "Python 3 (ipykernel)",
   "language": "python",
   "name": "python3"
  },
  "language_info": {
   "codemirror_mode": {
    "name": "ipython",
    "version": 3
   },
   "file_extension": ".py",
   "mimetype": "text/x-python",
   "name": "python",
   "nbconvert_exporter": "python",
   "pygments_lexer": "ipython3",
   "version": "3.10.11"
  }
 },
 "nbformat": 4,
 "nbformat_minor": 5
}
