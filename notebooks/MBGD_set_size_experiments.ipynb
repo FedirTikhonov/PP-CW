{
 "cells": [
  {
   "cell_type": "markdown",
   "id": "ddf6ae586a2c43e4",
   "metadata": {
    "collapsed": false,
    "jupyter": {
     "outputs_hidden": false
    }
   },
   "source": [
    "Імпортуємо дані:"
   ]
  },
  {
   "cell_type": "code",
   "execution_count": 6,
   "id": "initial_id",
   "metadata": {
    "ExecuteTime": {
     "end_time": "2024-04-25T16:59:31.741595Z",
     "start_time": "2024-04-25T16:59:31.721387Z"
    },
    "collapsed": true,
    "jupyter": {
     "outputs_hidden": true
    }
   },
   "outputs": [],
   "source": [
    "from parallelized_functions.Matrix import Matrix\n",
    "from parallelized_functions.ParMiniBatchGradientDescent import ParMiniBatchGradientDescent\n",
    "import matplotlib.pyplot as plt\n",
    "import pandas as pd"
   ]
  },
  {
   "cell_type": "markdown",
   "id": "c5bfca3e3cef50ba",
   "metadata": {
    "collapsed": false,
    "jupyter": {
     "outputs_hidden": false
    }
   },
   "source": [
    "Виконуємо експеримент з часом виконання алгоритму в залежності від кількості вибірок:"
   ]
  },
  {
   "cell_type": "code",
   "execution_count": 7,
   "id": "2cbe99b7fc88f838",
   "metadata": {
    "ExecuteTime": {
     "end_time": "2024-04-25T17:00:41.486267Z",
     "start_time": "2024-04-25T16:59:31.742997Z"
    },
    "collapsed": false,
    "jupyter": {
     "outputs_hidden": false
    }
   },
   "outputs": [
    {
     "name": "stdout",
     "output_type": "stream",
     "text": [
      "Mini-Batch Gradient Descent Progress:\n",
      "[===============================================   ] 94%\r\n",
      "Early Stopping on iteration 93\n",
      "\n",
      "Executed in 1.888 seconds\n",
      "Mini-Batch Gradient Descent Progress:\n",
      "[===============================================   ] 95%\r\n",
      "Early Stopping on iteration 94\n",
      "\n",
      "Executed in 2.973 seconds\n",
      "Mini-Batch Gradient Descent Progress:\n",
      "[===============================================   ] 95%\r\n",
      "Early Stopping on iteration 94\n",
      "\n",
      "Executed in 4.325 seconds\n",
      "Mini-Batch Gradient Descent Progress:\n",
      "[===============================================   ] 95%\r\n",
      "Early Stopping on iteration 94\n",
      "\n",
      "Executed in 5.116 seconds\n",
      "Mini-Batch Gradient Descent Progress:\n",
      "[================================================  ] 96%\r\n",
      "Early Stopping on iteration 95\n",
      "\n",
      "Executed in 5.726 seconds\n",
      "Mini-Batch Gradient Descent Progress:\n",
      "[================================================  ] 96%\r\n",
      "Early Stopping on iteration 95\n",
      "\n",
      "Executed in 6.541 seconds\n",
      "Mini-Batch Gradient Descent Progress:\n",
      "[================================================  ] 96%\r\n",
      "Early Stopping on iteration 95\n",
      "\n",
      "Executed in 8.431 seconds\n",
      "Mini-Batch Gradient Descent Progress:\n",
      "[================================================  ] 96%\r\n",
      "Early Stopping on iteration 95\n",
      "\n",
      "Executed in 12.049 seconds\n",
      "Mini-Batch Gradient Descent Progress:\n",
      "[============================================      ] 89%\r\n",
      "Early Stopping on iteration 88\n",
      "\n",
      "Executed in 9.153 seconds\n",
      "Mini-Batch Gradient Descent Progress:\n",
      "[=============================================     ] 90%\r\n",
      "Early Stopping on iteration 89\n",
      "\n",
      "Executed in 11.609 seconds\n"
     ]
    }
   ],
   "source": [
    "if __name__ == '__main__':\n",
    "    n_samples_lst = []\n",
    "    time_lst = []\n",
    "    for factor in range(1, 11):\n",
    "        n_samples = 5000 * factor\n",
    "        X = Matrix([[i * 2,\n",
    "                     i + 5,\n",
    "                     i - 10,\n",
    "                     7 - i,\n",
    "                     i * (-10)] for i in range(n_samples)])\n",
    "        X, X_min, X_max = X.normalise()\n",
    "        y = Matrix([[5 * X[i, 0] - 3 * X[i, 1] + 2 * X[i, 2] - X[i, 3] - 5 * X[i, 4] + 10] for i in range(n_samples)])\n",
    "        y, y_min, y_max = y.normalise()\n",
    "        num_iterations = 100\n",
    "        par_descent = ParMiniBatchGradientDescent(X, y, learning_rate=0.4, num_iterations=num_iterations, batch_size=1024, num_processes=14, max_degree=1, stopping=1e-8)\n",
    "        time = par_descent.optimize()\n",
    "        time_lst.append(time)\n",
    "        n_samples_lst.append(n_samples)"
   ]
  },
  {
   "cell_type": "markdown",
   "id": "18bba31fe698ccea",
   "metadata": {
    "collapsed": false,
    "jupyter": {
     "outputs_hidden": false
    }
   },
   "source": [
    "Копіюємо час виконання послідовного алгоритму в залежності від того самого набору даних у файлі seqGD_experiments.ipynb:"
   ]
  },
  {
   "cell_type": "code",
   "execution_count": 8,
   "id": "9d59182e174112fa",
   "metadata": {
    "ExecuteTime": {
     "end_time": "2024-04-25T17:00:41.502040Z",
     "start_time": "2024-04-25T17:00:41.489023Z"
    },
    "collapsed": false,
    "jupyter": {
     "outputs_hidden": false
    }
   },
   "outputs": [],
   "source": [
    "time_lst_seq = [4.068210, 8.701283, 13.021464, 18.997838, 24.450192, 23.511114, 28.802749, 36.990829, 36.763637, 38.365674]"
   ]
  },
  {
   "cell_type": "markdown",
   "id": "65de039aa3fee609",
   "metadata": {
    "collapsed": false,
    "jupyter": {
     "outputs_hidden": false
    }
   },
   "source": [
    "Візуалізуємо порівняння на графіку:"
   ]
  },
  {
   "cell_type": "code",
   "execution_count": 9,
   "id": "9e193e7349dc332e",
   "metadata": {
    "collapsed": false,
    "jupyter": {
     "outputs_hidden": false
    }
   },
   "outputs": [
    {
     "data": {
      "text/plain": [
       "[1.888315200805664,\n",
       " 2.9733641147613525,\n",
       " 4.324602127075195,\n",
       " 5.116434812545776,\n",
       " 5.726192235946655,\n",
       " 6.541404962539673,\n",
       " 8.430988073348999,\n",
       " 12.048959016799927,\n",
       " 9.152933120727539,\n",
       " 11.60883903503418]"
      ]
     },
     "execution_count": 9,
     "metadata": {},
     "output_type": "execute_result"
    }
   ],
   "source": [
    "time_lst"
   ]
  },
  {
   "cell_type": "code",
   "execution_count": 10,
   "id": "d03bbc8fcda25f71",
   "metadata": {
    "ExecuteTime": {
     "end_time": "2024-04-25T17:00:41.682932Z",
     "start_time": "2024-04-25T17:00:41.496873Z"
    },
    "collapsed": false,
    "jupyter": {
     "outputs_hidden": false
    }
   },
   "outputs": [
    {
     "data": {
      "image/png": "[encoded data removed]",
      "text/plain": [
       "<Figure size 640x480 with 1 Axes>"
      ]
     },
     "metadata": {},
     "output_type": "display_data"
    }
   ],
   "source": [
    "experiment_df = pd.DataFrame({'Execution Time': time_lst, 'Number of Samples': n_samples_lst, 'Sequential Time': time_lst_seq})\n",
    "plt.plot(experiment_df['Number of Samples'], experiment_df['Execution Time'], label='Parallel')\n",
    "plt.plot(experiment_df['Number of Samples'], experiment_df['Sequential Time'], label='Sequential')\n",
    "plt.legend()\n",
    "plt.xlabel('Number of Samples')\n",
    "plt.grid()\n",
    "plt.ylabel('Execution Time, Seconds')\n",
    "plt.show()"
   ]
  },
  {
   "cell_type": "markdown",
   "id": "d74e0e320aa7fa8",
   "metadata": {
    "collapsed": false,
    "jupyter": {
     "outputs_hidden": false
    }
   },
   "source": [
    "Візуалізуємо дані у таблиці"
   ]
  },
  {
   "cell_type": "code",
   "execution_count": 11,
   "id": "915e0a3832c02bbf",
   "metadata": {
    "ExecuteTime": {
     "end_time": "2024-04-25T17:00:41.683818Z",
     "start_time": "2024-04-25T17:00:41.674042Z"
    },
    "collapsed": false,
    "jupyter": {
     "outputs_hidden": false
    }
   },
   "outputs": [
    {
     "data": {
      "text/html": [
       "<div>\n",
       "<style scoped>\n",
       "    .dataframe tbody tr th:only-of-type {\n",
       "        vertical-align: middle;\n",
       "    }\n",
       "\n",
       "    .dataframe tbody tr th {\n",
       "        vertical-align: top;\n",
       "    }\n",
       "\n",
       "    .dataframe thead th {\n",
       "        text-align: right;\n",
       "    }\n",
       "</style>\n",
       "<table border=\"1\" class=\"dataframe\">\n",
       "  <thead>\n",
       "    <tr style=\"text-align: right;\">\n",
       "      <th></th>\n",
       "      <th>Execution Time</th>\n",
       "      <th>Number of Samples</th>\n",
       "      <th>Sequential Time</th>\n",
       "      <th>SpeedUp</th>\n",
       "    </tr>\n",
       "  </thead>\n",
       "  <tbody>\n",
       "    <tr>\n",
       "      <th>0</th>\n",
       "      <td>1.888315</td>\n",
       "      <td>5000</td>\n",
       "      <td>4.068210</td>\n",
       "      <td>2.154413</td>\n",
       "    </tr>\n",
       "    <tr>\n",
       "      <th>1</th>\n",
       "      <td>2.973364</td>\n",
       "      <td>10000</td>\n",
       "      <td>8.701283</td>\n",
       "      <td>2.926410</td>\n",
       "    </tr>\n",
       "    <tr>\n",
       "      <th>2</th>\n",
       "      <td>4.324602</td>\n",
       "      <td>15000</td>\n",
       "      <td>13.021464</td>\n",
       "      <td>3.011020</td>\n",
       "    </tr>\n",
       "    <tr>\n",
       "      <th>3</th>\n",
       "      <td>5.116435</td>\n",
       "      <td>20000</td>\n",
       "      <td>18.997838</td>\n",
       "      <td>3.713101</td>\n",
       "    </tr>\n",
       "    <tr>\n",
       "      <th>4</th>\n",
       "      <td>5.726192</td>\n",
       "      <td>25000</td>\n",
       "      <td>24.450192</td>\n",
       "      <td>4.269887</td>\n",
       "    </tr>\n",
       "    <tr>\n",
       "      <th>5</th>\n",
       "      <td>6.541405</td>\n",
       "      <td>30000</td>\n",
       "      <td>23.511114</td>\n",
       "      <td>3.594199</td>\n",
       "    </tr>\n",
       "    <tr>\n",
       "      <th>6</th>\n",
       "      <td>8.430988</td>\n",
       "      <td>35000</td>\n",
       "      <td>28.802749</td>\n",
       "      <td>3.416296</td>\n",
       "    </tr>\n",
       "    <tr>\n",
       "      <th>7</th>\n",
       "      <td>12.048959</td>\n",
       "      <td>40000</td>\n",
       "      <td>36.990829</td>\n",
       "      <td>3.070044</td>\n",
       "    </tr>\n",
       "    <tr>\n",
       "      <th>8</th>\n",
       "      <td>9.152933</td>\n",
       "      <td>45000</td>\n",
       "      <td>36.763637</td>\n",
       "      <td>4.016596</td>\n",
       "    </tr>\n",
       "    <tr>\n",
       "      <th>9</th>\n",
       "      <td>11.608839</td>\n",
       "      <td>50000</td>\n",
       "      <td>38.365674</td>\n",
       "      <td>3.304867</td>\n",
       "    </tr>\n",
       "  </tbody>\n",
       "</table>\n",
       "</div>"
      ],
      "text/plain": [
       "   Execution Time  Number of Samples  Sequential Time   SpeedUp\n",
       "0        1.888315               5000         4.068210  2.154413\n",
       "1        2.973364              10000         8.701283  2.926410\n",
       "2        4.324602              15000        13.021464  3.011020\n",
       "3        5.116435              20000        18.997838  3.713101\n",
       "4        5.726192              25000        24.450192  4.269887\n",
       "5        6.541405              30000        23.511114  3.594199\n",
       "6        8.430988              35000        28.802749  3.416296\n",
       "7       12.048959              40000        36.990829  3.070044\n",
       "8        9.152933              45000        36.763637  4.016596\n",
       "9       11.608839              50000        38.365674  3.304867"
      ]
     },
     "execution_count": 11,
     "metadata": {},
     "output_type": "execute_result"
    }
   ],
   "source": [
    "experiment_df['SpeedUp'] = experiment_df['Sequential Time'] / experiment_df['Execution Time']\n",
    "experiment_df"
   ]
  }
 ],
 "metadata": {
  "kernelspec": {
   "display_name": "Python 3 (ipykernel)",
   "language": "python",
   "name": "python3"
  },
  "language_info": {
   "codemirror_mode": {
    "name": "ipython",
    "version": 3
   },
   "file_extension": ".py",
   "mimetype": "text/x-python",
   "name": "python",
   "nbconvert_exporter": "python",
   "pygments_lexer": "ipython3",
   "version": "3.10.11"
  }
 },
 "nbformat": 4,
 "nbformat_minor": 5
}
