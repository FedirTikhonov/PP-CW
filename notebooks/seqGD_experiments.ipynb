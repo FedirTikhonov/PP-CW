{
 "cells": [
  {
   "cell_type": "markdown",
   "id": "cee8d2d9ca40b265",
   "metadata": {
    "collapsed": false
   },
   "source": []
  },
  {
   "cell_type": "markdown",
   "id": "ce9f81de50d501a9",
   "metadata": {
    "collapsed": false
   },
   "source": [
    "Імпортуємо бібліотеки:"
   ]
  },
  {
   "cell_type": "code",
   "execution_count": 1,
   "id": "initial_id",
   "metadata": {
    "collapsed": true,
    "jupyter": {
     "outputs_hidden": true
    },
    "ExecuteTime": {
     "end_time": "2024-04-25T13:34:47.816542Z",
     "start_time": "2024-04-25T13:34:47.037336Z"
    }
   },
   "outputs": [],
   "source": [
    "from parallelized_functions.Matrix import Matrix\n",
    "from parallelized_functions.SeqMiniBatchGradientDescent import SeqMiniBatchGradientDescent\n",
    "import matplotlib.pyplot as plt\n",
    "import pandas as pd"
   ]
  },
  {
   "cell_type": "markdown",
   "id": "89a38d362643788f",
   "metadata": {
    "collapsed": false
   },
   "source": [
    "Виконуємо експеримент в залежності від кількості вибірок:"
   ]
  },
  {
   "cell_type": "code",
   "execution_count": 4,
   "id": "2cbe99b7fc88f838",
   "metadata": {
    "collapsed": false,
    "ExecuteTime": {
     "end_time": "2024-04-25T13:39:20.159525Z",
     "start_time": "2024-04-25T13:35:24.563428Z"
    }
   },
   "outputs": [
    {
     "name": "stdout",
     "output_type": "stream",
     "text": [
      "Sequential Mini-Batch Gradient Descent Progress:\n",
      "[===============================================   ] 94%\r\n",
      "Early Stopping on iteration 93\n",
      "\n",
      "Executed in 4.068 seconds\n",
      "Sequential Mini-Batch Gradient Descent Progress:\n",
      "[===============================================   ] 95%\r\n",
      "Early Stopping on iteration 94\n",
      "\n",
      "Executed in 8.701 seconds\n",
      "Sequential Mini-Batch Gradient Descent Progress:\n",
      "[===============================================   ] 95%\r\n",
      "Early Stopping on iteration 94\n",
      "\n",
      "Executed in 13.021 seconds\n",
      "Sequential Mini-Batch Gradient Descent Progress:\n",
      "[===============================================   ] 95%\r\n",
      "Early Stopping on iteration 94\n",
      "\n",
      "Executed in 18.998 seconds\n",
      "Sequential Mini-Batch Gradient Descent Progress:\n",
      "[================================================  ] 96%\r\n",
      "Early Stopping on iteration 95\n",
      "\n",
      "Executed in 24.45 seconds\n",
      "Sequential Mini-Batch Gradient Descent Progress:\n",
      "[================================================  ] 96%\r\n",
      "Early Stopping on iteration 95\n",
      "\n",
      "Executed in 23.511 seconds\n",
      "Sequential Mini-Batch Gradient Descent Progress:\n",
      "[================================================  ] 96%\r\n",
      "Early Stopping on iteration 95\n",
      "\n",
      "Executed in 28.803 seconds\n",
      "Sequential Mini-Batch Gradient Descent Progress:\n",
      "[================================================  ] 96%\r\n",
      "Early Stopping on iteration 95\n",
      "\n",
      "Executed in 36.991 seconds\n",
      "Sequential Mini-Batch Gradient Descent Progress:\n",
      "[============================================      ] 89%\r\n",
      "Early Stopping on iteration 88\n",
      "\n",
      "Executed in 36.764 seconds\n",
      "Sequential Mini-Batch Gradient Descent Progress:\n",
      "[=============================================     ] 90%\r\n",
      "Early Stopping on iteration 89\n",
      "\n",
      "Executed in 38.366 seconds\n"
     ]
    }
   ],
   "source": [
    "if __name__ == '__main__':\n",
    "    time_lst = []\n",
    "    samples_lst = []\n",
    "    for i in range(1, 11):\n",
    "        n_samples = 5000 * i\n",
    "        X = Matrix([[i * 2,\n",
    "                     i + 5,\n",
    "                     i - 10,\n",
    "                     7 - i,\n",
    "                     i * (-10)] for i in range(n_samples)])\n",
    "        X, X_min, X_max = X.normalise()\n",
    "        y = Matrix([[5 * X[i, 0] - 3 * X[i, 1] + 2 * X[i, 2] - X[i, 3] - 5 * X[i, 4] + 10] for i in range(n_samples)])\n",
    "        y, y_min, y_max = y.normalise()\n",
    "        num_iterations = 100\n",
    "        seq_descent = SeqMiniBatchGradientDescent(X, y, learning_rate=0.4, num_iterations=num_iterations, batch_size=1024, stopping=1e-8, max_degree=1)\n",
    "        time = seq_descent.optimize()\n",
    "        time_lst.append(time)\n",
    "        samples_lst.append(n_samples)"
   ]
  },
  {
   "cell_type": "markdown",
   "id": "781a13ea01e0ce2b",
   "metadata": {
    "collapsed": false
   },
   "source": [
    "Візуалізуємо дані на графіку:"
   ]
  },
  {
   "cell_type": "code",
   "execution_count": 5,
   "id": "d03bbc8fcda25f71",
   "metadata": {
    "collapsed": false,
    "ExecuteTime": {
     "end_time": "2024-04-25T13:39:34.027222Z",
     "start_time": "2024-04-25T13:39:33.940086Z"
    }
   },
   "outputs": [
    {
     "data": {
      "text/plain": "<Figure size 640x480 with 1 Axes>",
      "image/png": "[encoded data removed]"
     },
     "metadata": {},
     "output_type": "display_data"
    }
   ],
   "source": [
    "experiment_df = pd.DataFrame({'Execution Time': time_lst, 'Number of Samples': samples_lst})\n",
    "plt.plot(experiment_df['Number of Samples'], experiment_df['Execution Time'])\n",
    "plt.xlabel('Number of Samples')\n",
    "plt.grid()\n",
    "plt.ylabel('Execution Time, Seconds')\n",
    "plt.show()"
   ]
  },
  {
   "cell_type": "markdown",
   "id": "e80f3a1caf21ab5a",
   "metadata": {
    "collapsed": false
   },
   "source": [
    "У таблиці:"
   ]
  },
  {
   "cell_type": "code",
   "execution_count": 6,
   "id": "140a1722ad2abb5b",
   "metadata": {
    "collapsed": false,
    "ExecuteTime": {
     "end_time": "2024-04-25T13:40:35.413688Z",
     "start_time": "2024-04-25T13:40:35.399319Z"
    }
   },
   "outputs": [
    {
     "data": {
      "text/plain": "   Execution Time  Number of Samples\n0        4.068210               5000\n1        8.701283              10000\n2       13.021464              15000\n3       18.997838              20000\n4       24.450192              25000\n5       23.511114              30000\n6       28.802749              35000\n7       36.990829              40000\n8       36.763637              45000\n9       38.365674              50000",
      "text/html": "<div>\n<style scoped>\n    .dataframe tbody tr th:only-of-type {\n        vertical-align: middle;\n    }\n\n    .dataframe tbody tr th {\n        vertical-align: top;\n    }\n\n    .dataframe thead th {\n        text-align: right;\n    }\n</style>\n<table border=\"1\" class=\"dataframe\">\n  <thead>\n    <tr style=\"text-align: right;\">\n      <th></th>\n      <th>Execution Time</th>\n      <th>Number of Samples</th>\n    </tr>\n  </thead>\n  <tbody>\n    <tr>\n      <th>0</th>\n      <td>4.068210</td>\n      <td>5000</td>\n    </tr>\n    <tr>\n      <th>1</th>\n      <td>8.701283</td>\n      <td>10000</td>\n    </tr>\n    <tr>\n      <th>2</th>\n      <td>13.021464</td>\n      <td>15000</td>\n    </tr>\n    <tr>\n      <th>3</th>\n      <td>18.997838</td>\n      <td>20000</td>\n    </tr>\n    <tr>\n      <th>4</th>\n      <td>24.450192</td>\n      <td>25000</td>\n    </tr>\n    <tr>\n      <th>5</th>\n      <td>23.511114</td>\n      <td>30000</td>\n    </tr>\n    <tr>\n      <th>6</th>\n      <td>28.802749</td>\n      <td>35000</td>\n    </tr>\n    <tr>\n      <th>7</th>\n      <td>36.990829</td>\n      <td>40000</td>\n    </tr>\n    <tr>\n      <th>8</th>\n      <td>36.763637</td>\n      <td>45000</td>\n    </tr>\n    <tr>\n      <th>9</th>\n      <td>38.365674</td>\n      <td>50000</td>\n    </tr>\n  </tbody>\n</table>\n</div>"
     },
     "execution_count": 6,
     "metadata": {},
     "output_type": "execute_result"
    }
   ],
   "source": [
    "experiment_df"
   ]
  }
 ],
 "metadata": {
  "kernelspec": {
   "display_name": "Python 3 (ipykernel)",
   "language": "python",
   "name": "python3"
  },
  "language_info": {
   "codemirror_mode": {
    "name": "ipython",
    "version": 3
   },
   "file_extension": ".py",
   "mimetype": "text/x-python",
   "name": "python",
   "nbconvert_exporter": "python",
   "pygments_lexer": "ipython3",
   "version": "3.10.11"
  }
 },
 "nbformat": 4,
 "nbformat_minor": 5
}
