{
 "cells": [
  {
   "cell_type": "markdown",
   "id": "b42a3224492ed270",
   "metadata": {
    "collapsed": false,
    "jupyter": {
     "outputs_hidden": false
    }
   },
   "source": [
    "Importing libraries:"
   ]
  },
  {
   "cell_type": "code",
   "execution_count": 1,
   "id": "38370861f361f731",
   "metadata": {
    "ExecuteTime": {
     "end_time": "2024-04-25T14:18:50.316313Z",
     "start_time": "2024-04-25T14:18:50.231926Z"
    },
    "collapsed": false,
    "jupyter": {
     "outputs_hidden": false
    }
   },
   "outputs": [],
   "source": [
    "from parallelized_functions.Matrix import Matrix\n",
    "from parallelized_functions.SeqMiniBatchGradientDescent import SeqMiniBatchGradientDescent\n",
    "from parallelized_functions.ParMiniBatchGradientDescent import ParMiniBatchGradientDescent"
   ]
  },
  {
   "cell_type": "markdown",
   "id": "cd951c50973b023",
   "metadata": {
    "collapsed": false,
    "jupyter": {
     "outputs_hidden": false
    }
   },
   "source": [
    "Creating a simulated training dataset:"
   ]
  },
  {
   "cell_type": "code",
   "execution_count": 2,
   "id": "52d88f90576ffcaa",
   "metadata": {
    "ExecuteTime": {
     "end_time": "2024-04-25T14:18:50.359246Z",
     "start_time": "2024-04-25T14:18:50.350653Z"
    },
    "collapsed": false,
    "jupyter": {
     "outputs_hidden": false
    }
   },
   "outputs": [],
   "source": [
    "if __name__ == '__main__':    \n",
    "    n_samples = 5000\n",
    "    X = Matrix([[i + 3,\n",
    "                 2 - i,\n",
    "                 i * 2] for i in range(n_samples)])\n",
    "    y = Matrix([[2 * X[i, 0] ** 2 + 3 * X[i, 1]  - 2 * X[i, 2]] for i in range(n_samples)])\n",
    "    X, X_min_val, X_max_val = X.normalise()\n",
    "    y, y_min_val, y_max_val = y.normalise()"
   ]
  },
  {
   "cell_type": "markdown",
   "id": "1faa8bfb0164739b",
   "metadata": {
    "collapsed": false,
    "jupyter": {
     "outputs_hidden": false
    }
   },
   "source": [
    "Conducting optimization with a sequential Gradient Descent:"
   ]
  },
  {
   "cell_type": "code",
   "execution_count": 3,
   "id": "e0e9ca49be604d9c",
   "metadata": {
    "ExecuteTime": {
     "end_time": "2024-04-25T14:20:18.681052Z",
     "start_time": "2024-04-25T14:18:50.359029Z"
    },
    "collapsed": false,
    "jupyter": {
     "outputs_hidden": false
    }
   },
   "outputs": [
    {
     "name": "stdout",
     "output_type": "stream",
     "text": [
      "Sequential Mini-Batch Gradient Descent Progress:\n",
      "[=============================================     ] 91%\r\n",
      "Early Stopping on iteration 1365\n",
      "\n",
      "Executed in 88.308 seconds\n"
     ]
    }
   ],
   "source": [
    "if __name__ == '__main__':\n",
    "    num_iterations = 1500\n",
    "    seq_descent = SeqMiniBatchGradientDescent(X, y, num_iterations=num_iterations, batch_size=1024, learning_rate=0.4, stopping=1e-9, max_degree=2)\n",
    "    seq_descent.optimize()"
   ]
  },
  {
   "cell_type": "markdown",
   "id": "98a73443eb56dc20",
   "metadata": {
    "collapsed": false,
    "jupyter": {
     "outputs_hidden": false
    }
   },
   "source": [
    "MSE for sequential GD:"
   ]
  },
  {
   "cell_type": "code",
   "execution_count": 4,
   "id": "96e71d9e8c627b5f",
   "metadata": {
    "ExecuteTime": {
     "end_time": "2024-04-25T14:20:18.744066Z",
     "start_time": "2024-04-25T14:20:18.736341Z"
    },
    "collapsed": false,
    "jupyter": {
     "outputs_hidden": false
    }
   },
   "outputs": [
    {
     "name": "stdout",
     "output_type": "stream",
     "text": [
      "2.1938583309080218e-16\n"
     ]
    }
   ],
   "source": [
    "if __name__ == '__main__':\n",
    "    y_pred_seq = seq_descent.predict()\n",
    "    print((1 / n_samples) * ((y - y_pred_seq) * (y - y_pred_seq)).sum_elem())"
   ]
  },
  {
   "cell_type": "markdown",
   "id": "a9adebb20333f641",
   "metadata": {
    "collapsed": false,
    "jupyter": {
     "outputs_hidden": false
    }
   },
   "source": [
    "Practical results for sequential GD:"
   ]
  },
  {
   "cell_type": "code",
   "execution_count": 5,
   "id": "f5f5becffda87db9",
   "metadata": {
    "ExecuteTime": {
     "end_time": "2024-04-25T14:20:18.749543Z",
     "start_time": "2024-04-25T14:20:18.747265Z"
    },
    "collapsed": false,
    "jupyter": {
     "outputs_hidden": false
    }
   },
   "outputs": [
    {
     "name": "stdout",
     "output_type": "stream",
     "text": [
      "[24.0] [22.30861553307533]\n",
      "[31.0] [29.31062864142877]\n",
      "[42.0] [40.3126409560811]\n",
      "[57.0] [55.31465247842022]\n",
      "[76.0] [74.31666321260991]\n",
      "[99.0] [97.31867315171056]\n",
      "[126.0] [124.32068230127385]\n",
      "[157.0] [155.3226906557481]\n",
      "[192.0] [190.32469822207293]\n",
      "[231.0] [229.32670499330868]\n"
     ]
    }
   ],
   "source": [
    "if __name__ == '__main__':\n",
    "    y_denormalised = y.denormalise(y_min_val, y_max_val)\n",
    "    y_pred_denormalised = y_pred_seq.denormalise(y_min_val, y_max_val)\n",
    "    for i in range(10):\n",
    "        print(y_denormalised[i], y_pred_denormalised[i])"
   ]
  },
  {
   "cell_type": "markdown",
   "id": "7f2d503bcfb0722a",
   "metadata": {
    "collapsed": false,
    "jupyter": {
     "outputs_hidden": false
    }
   },
   "source": [
    "Conducting optimization on a parallelized Mini-Batch Gradient Descent:"
   ]
  },
  {
   "cell_type": "code",
   "execution_count": 6,
   "id": "74cbdbe0f9c69bfd",
   "metadata": {
    "ExecuteTime": {
     "end_time": "2024-04-25T14:20:49.903070Z",
     "start_time": "2024-04-25T14:20:18.756190Z"
    },
    "collapsed": false,
    "jupyter": {
     "outputs_hidden": false
    }
   },
   "outputs": [
    {
     "name": "stdout",
     "output_type": "stream",
     "text": [
      "Mini-Batch Gradient Descent Progress:\n",
      "[=============================================     ] 91%\r\n",
      "Early Stopping on iteration 1365\n",
      "\n",
      "Executed in 31.142 seconds\n"
     ]
    }
   ],
   "source": [
    "if __name__ == '__main__':    \n",
    "    par_descent = ParMiniBatchGradientDescent(X, y, learning_rate=0.4, \n",
    "                                           batch_size=1024, \n",
    "                                           num_iterations=num_iterations, \n",
    "                                           num_processes=4,\n",
    "                                           stopping=1e-9,\n",
    "                                           max_degree=2)\n",
    "    par_descent.optimize()"
   ]
  },
  {
   "cell_type": "markdown",
   "id": "bb904ac8412b6d82",
   "metadata": {
    "collapsed": false,
    "jupyter": {
     "outputs_hidden": false
    }
   },
   "source": [
    "MSE for Parallel Gradient Descent"
   ]
  },
  {
   "cell_type": "code",
   "execution_count": 7,
   "id": "6abf3a20a11dbbd6",
   "metadata": {
    "ExecuteTime": {
     "end_time": "2024-04-25T14:20:49.991926Z",
     "start_time": "2024-04-25T14:20:49.938993Z"
    },
    "collapsed": false,
    "jupyter": {
     "outputs_hidden": false
    }
   },
   "outputs": [
    {
     "name": "stdout",
     "output_type": "stream",
     "text": [
      "2.1938583309080218e-16\n"
     ]
    }
   ],
   "source": [
    "if __name__ == '__main__':\n",
    "    y_pred_par = par_descent.predict(None)\n",
    "    print((1 / n_samples) * ((y - y_pred_par) * (y - y_pred_par)).sum_elem())"
   ]
  },
  {
   "cell_type": "code",
   "execution_count": 8,
   "id": "8ec5aadfe4909c40",
   "metadata": {
    "ExecuteTime": {
     "end_time": "2024-04-25T14:21:10.991213Z",
     "start_time": "2024-04-25T14:21:10.966064Z"
    },
    "collapsed": false,
    "jupyter": {
     "outputs_hidden": false
    }
   },
   "outputs": [
    {
     "name": "stdout",
     "output_type": "stream",
     "text": [
      "[24.0] [22.30861553307533]\n",
      "[31.0] [29.31062864142877]\n",
      "[42.0] [40.3126409560811]\n",
      "[57.0] [55.31465247842022]\n",
      "[76.0] [74.31666321260991]\n",
      "[99.0] [97.31867315171056]\n",
      "[126.0] [124.32068230127385]\n",
      "[157.0] [155.3226906557481]\n",
      "[192.0] [190.32469822207293]\n",
      "[231.0] [229.32670499330868]\n"
     ]
    }
   ],
   "source": [
    "if __name__ == '__main__':\n",
    "    y_denormalised = y.denormalise(y_min_val, y_max_val)\n",
    "    y_pred_denormalised = y_pred_par.denormalise(y_min_val, y_max_val)\n",
    "    for i in range(10):\n",
    "        print(y_denormalised[i], y_pred_denormalised[i])"
   ]
  },
  {
   "cell_type": "code",
   "execution_count": null,
   "id": "4c3a20d5b7e89c7f",
   "metadata": {
    "ExecuteTime": {
     "end_time": "2024-04-25T17:22:59.804606Z",
     "start_time": "2024-04-25T17:22:59.802493Z"
    },
    "collapsed": false,
    "jupyter": {
     "outputs_hidden": false
    }
   },
   "outputs": [],
   "source": []
  }
 ],
 "metadata": {
  "kernelspec": {
   "display_name": "Python 3 (ipykernel)",
   "language": "python",
   "name": "python3"
  },
  "language_info": {
   "codemirror_mode": {
    "name": "ipython",
    "version": 3
   },
   "file_extension": ".py",
   "mimetype": "text/x-python",
   "name": "python",
   "nbconvert_exporter": "python",
   "pygments_lexer": "ipython3",
   "version": "3.10.11"
  }
 },
 "nbformat": 4,
 "nbformat_minor": 5
}
